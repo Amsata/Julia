{
 "cells": [
  {
   "cell_type": "markdown",
   "metadata": {},
   "source": [
    "<img src=\"img/JuliaDB.png\" />"
   ]
  },
  {
   "cell_type": "code",
   "execution_count": 1,
   "metadata": {},
   "outputs": [],
   "source": [
    "cd(\"C:\\\\Users\\\\AMSATA NIANG\\\\Documents\\\\Julia\")\n"
   ]
  },
  {
   "cell_type": "code",
   "execution_count": 2,
   "metadata": {},
   "outputs": [],
   "source": [
    "\n",
    "using JuliaDB"
   ]
  },
  {
   "cell_type": "code",
   "execution_count": 3,
   "metadata": {},
   "outputs": [
    {
     "data": {
      "text/plain": [
       "juliaDB_time (generic function with 1 method)"
      ]
     },
     "execution_count": 3,
     "metadata": {},
     "output_type": "execute_result"
    }
   ],
   "source": [
    "function juliaDB_time()\n",
    "df=loadtable(\"data/FoodBalanceSheets.csv\")\n",
    "end\n"
   ]
  },
  {
   "cell_type": "code",
   "execution_count": 4,
   "metadata": {},
   "outputs": [
    {
     "name": "stdout",
     "output_type": "stream",
     "text": [
      "  1.179 s (11082 allocations: 278.74 MiB)\n"
     ]
    },
    {
     "data": {
      "text/plain": [
       "Table with 1219867 rows, 11 columns:\n",
       "Columns:\n",
       "\u001b[1m#   \u001b[22m\u001b[1mcolname       \u001b[22m\u001b[1mtype\u001b[22m\n",
       "─────────────────────────\n",
       "1   Area_Code     Int64\n",
       "2   Area          String\n",
       "3   Item_Code     Int64\n",
       "4   Item          String\n",
       "5   Element_Code  Int64\n",
       "6   Element       String\n",
       "7   Year_Code     Int64\n",
       "8   Year          Int64\n",
       "9   Unit          String\n",
       "10  Value         Float64\n",
       "11  Flag          String"
      ]
     },
     "execution_count": 4,
     "metadata": {},
     "output_type": "execute_result"
    }
   ],
   "source": [
    "using BenchmarkTools\n",
    "@btime juliaDB_time()"
   ]
  },
  {
   "cell_type": "code",
   "execution_count": 27,
   "metadata": {},
   "outputs": [
    {
     "data": {
      "text/plain": [
       "Table with 1219867 rows, 11 columns:\n",
       "Columns:\n",
       "\u001b[1m#   \u001b[22m\u001b[1mcolname       \u001b[22m\u001b[1mtype\u001b[22m\n",
       "─────────────────────────\n",
       "1   Area_Code     Int64\n",
       "2   Area          String\n",
       "3   Item_Code     Int64\n",
       "4   Item          String\n",
       "5   Element_Code  Int64\n",
       "6   Element       String\n",
       "7   Year_Code     Int64\n",
       "8   Year          Int64\n",
       "9   Unit          String\n",
       "10  Value         Float64\n",
       "11  Flag          String"
      ]
     },
     "execution_count": 27,
     "metadata": {},
     "output_type": "execute_result"
    }
   ],
   "source": [
    "df=loadtable(\"data/FoodBalanceSheets.csv\")\n",
    "filter(i->(i.Area==\"Senegal\") && (i.Element_Code==\"5510\")df ; select= :Area_Code)"
   ]
  },
  {
   "cell_type": "code",
   "execution_count": 36,
   "metadata": {},
   "outputs": [
    {
     "data": {
      "text/plain": [
       "Table with 7073 rows, 3 columns:\n",
       "Area       Item             Value\n",
       "───────────────────────────────────\n",
       "\"Senegal\"  \"Population\"     14174.7\n",
       "\"Senegal\"  \"Population\"     14578.5\n",
       "\"Senegal\"  \"Population\"     14993.5\n",
       "\"Senegal\"  \"Population\"     15419.4\n",
       "\"Senegal\"  \"Population\"     0.0\n",
       "\"Senegal\"  \"Population\"     0.0\n",
       "\"Senegal\"  \"Population\"     0.0\n",
       "\"Senegal\"  \"Population\"     0.0\n",
       "\"Senegal\"  \"Grand Total\"    2465.0\n",
       "\"Senegal\"  \"Grand Total\"    2490.0\n",
       "\"Senegal\"  \"Grand Total\"    2589.0\n",
       "\"Senegal\"  \"Grand Total\"    2612.0\n",
       "⋮\n",
       "\"Senegal\"  \"Miscellaneous\"  0.0\n",
       "\"Senegal\"  \"Miscellaneous\"  0.0\n",
       "\"Senegal\"  \"Miscellaneous\"  0.0\n",
       "\"Senegal\"  \"Miscellaneous\"  0.0\n",
       "\"Senegal\"  \"Miscellaneous\"  0.0\n",
       "\"Senegal\"  \"Miscellaneous\"  0.0\n",
       "\"Senegal\"  \"Miscellaneous\"  0.0\n",
       "\"Senegal\"  \"Miscellaneous\"  0.0\n",
       "\"Senegal\"  \"Miscellaneous\"  0.0\n",
       "\"Senegal\"  \"Miscellaneous\"  0.0\n",
       "\"Senegal\"  \"Miscellaneous\"  0.0"
      ]
     },
     "execution_count": 36,
     "metadata": {},
     "output_type": "execute_result"
    }
   ],
   "source": [
    "xx=select(df,(:Area,:Item,:Value));\n",
    "filter(i->(i.Area==\"Senegal\"), xx)"
   ]
  },
  {
   "cell_type": "code",
   "execution_count": 40,
   "metadata": {},
   "outputs": [
    {
     "data": {
      "text/plain": [
       "Table with 18 rows, 2 columns:\n",
       "\u001b[1mElement                                   \u001b[22m+\n",
       "────────────────────────────────────────────────────\n",
       "\"Domestic supply quantity\"                4.07086e8\n",
       "\"Export Quantity\"                         5.34133e7\n",
       "\"Fat supply quantity (g/capita/day)\"      292420.0\n",
       "\"Feed\"                                    5.48078e7\n",
       "\"Food\"                                    2.01343e8\n",
       "\"Food supply (kcal/capita/day)\"           9.48673e6\n",
       "\"Food supply quantity (kg/capita/yr)\"     1.15338e6\n",
       "\"Import Quantity\"                         5.31619e7\n",
       "\"Losses\"                                  2.28785e7\n",
       "\"Other uses (non-food)\"                   3.21174e7\n",
       "\"Processing\"                              9.13067e7\n",
       "\"Production\"                              4.11543e8\n",
       "\"Protein supply quantity (g/capita/day)\"  269912.0\n",
       "\"Residuals\"                               -1.39996e6\n",
       "\"Seed\"                                    6.60053e6\n",
       "\"Stock Variation\"                         4.28219e6\n",
       "\"Total Population - Both sexes\"           1.44084e8\n",
       "\"Tourist consumption\"                     56606.0"
      ]
     },
     "execution_count": 40,
     "metadata": {},
     "output_type": "execute_result"
    }
   ],
   "source": [
    "groupreduce(+,df, :Element; select=:Value)"
   ]
  },
  {
   "cell_type": "code",
   "execution_count": 41,
   "metadata": {},
   "outputs": [
    {
     "data": {
      "text/plain": [
       "(Area_Code = [2, 2, 2, 2, 2, 2, 2, 2, 2, 2  …  5817, 5817, 5817, 5817, 5817, 5817, 5817, 5817, 5817, 5817], Area = [\"Afghanistan\", \"Afghanistan\", \"Afghanistan\", \"Afghanistan\", \"Afghanistan\", \"Afghanistan\", \"Afghanistan\", \"Afghanistan\", \"Afghanistan\", \"Afghanistan\"  …  \"Net Food Importing Developing Countries\", \"Net Food Importing Developing Countries\", \"Net Food Importing Developing Countries\", \"Net Food Importing Developing Countries\", \"Net Food Importing Developing Countries\", \"Net Food Importing Developing Countries\", \"Net Food Importing Developing Countries\", \"Net Food Importing Developing Countries\", \"Net Food Importing Developing Countries\", \"Net Food Importing Developing Countries\"], Item_Code = [2501, 2501, 2501, 2501, 2501, 2501, 2501, 2501, 2901, 2901  …  2899, 2899, 2899, 2899, 2899, 2899, 2899, 2899, 2899, 2899], Item = [\"Population\", \"Population\", \"Population\", \"Population\", \"Population\", \"Population\", \"Population\", \"Population\", \"Grand Total\", \"Grand Total\"  …  \"Miscellaneous\", \"Miscellaneous\", \"Miscellaneous\", \"Miscellaneous\", \"Miscellaneous\", \"Miscellaneous\", \"Miscellaneous\", \"Miscellaneous\", \"Miscellaneous\", \"Miscellaneous\"], Element_Code = [511, 511, 511, 511, 5301, 5301, 5301, 5301, 664, 664  …  664, 664, 674, 674, 674, 674, 684, 684, 684, 684], Element = [\"Total Population - Both sexes\", \"Total Population - Both sexes\", \"Total Population - Both sexes\", \"Total Population - Both sexes\", \"Domestic supply quantity\", \"Domestic supply quantity\", \"Domestic supply quantity\", \"Domestic supply quantity\", \"Food supply (kcal/capita/day)\", \"Food supply (kcal/capita/day)\"  …  \"Food supply (kcal/capita/day)\", \"Food supply (kcal/capita/day)\", \"Protein supply quantity (g/capita/day)\", \"Protein supply quantity (g/capita/day)\", \"Protein supply quantity (g/capita/day)\", \"Protein supply quantity (g/capita/day)\", \"Fat supply quantity (g/capita/day)\", \"Fat supply quantity (g/capita/day)\", \"Fat supply quantity (g/capita/day)\", \"Fat supply quantity (g/capita/day)\"], Year_Code = [2014, 2015, 2016, 2017, 2014, 2015, 2016, 2017, 2014, 2015  …  2016, 2017, 2014, 2015, 2016, 2017, 2014, 2015, 2016, 2017], Year = [2014, 2015, 2016, 2017, 2014, 2015, 2016, 2017, 2014, 2015  …  2016, 2017, 2014, 2015, 2016, 2017, 2014, 2015, 2016, 2017], Unit = [\"1000 persons\", \"1000 persons\", \"1000 persons\", \"1000 persons\", \"1000 tonnes\", \"1000 tonnes\", \"1000 tonnes\", \"1000 tonnes\", \"kcal/capita/day\", \"kcal/capita/day\"  …  \"kcal/capita/day\", \"kcal/capita/day\", \"g/capita/day\", \"g/capita/day\", \"g/capita/day\", \"g/capita/day\", \"g/capita/day\", \"g/capita/day\", \"g/capita/day\", \"g/capita/day\"], Value = [33370.79, 34413.6, 35383.03, 36296.11, 0.0, 0.0, 0.0, 0.0, 2019.0, 1978.0  …  1.0, 1.0, 0.03, 0.03, 0.03, 0.03, 0.01, 0.01, 0.01, 0.01], Flag = [\"S\", \"S\", \"S\", \"S\", \"S\", \"S\", \"S\", \"S\", \"Fc\", \"Fc\"  …  \"Fc\", \"Fc\", \"Fc\", \"Fc\", \"Fc\", \"Fc\", \"Fc\", \"Fc\", \"Fc\", \"Fc\"])"
      ]
     },
     "execution_count": 41,
     "metadata": {},
     "output_type": "execute_result"
    }
   ],
   "source": [
    "columns(df)"
   ]
  },
  {
   "cell_type": "code",
   "execution_count": 44,
   "metadata": {},
   "outputs": [
    {
     "data": {
      "text/plain": [
       "1219867-element WeakRefStrings.StringArray{String,1}:\n",
       " \"S\"\n",
       " \"S\"\n",
       " \"S\"\n",
       " \"S\"\n",
       " \"S\"\n",
       " \"S\"\n",
       " \"S\"\n",
       " \"S\"\n",
       " \"Fc\"\n",
       " \"Fc\"\n",
       " \"Fc\"\n",
       " \"Fc\"\n",
       " \"Fc\"\n",
       " ⋮\n",
       " \"Fc\"\n",
       " \"Fc\"\n",
       " \"Fc\"\n",
       " \"Fc\"\n",
       " \"Fc\"\n",
       " \"Fc\"\n",
       " \"Fc\"\n",
       " \"Fc\"\n",
       " \"Fc\"\n",
       " \"Fc\"\n",
       " \"Fc\"\n",
       " \"Fc\""
      ]
     },
     "execution_count": 44,
     "metadata": {},
     "output_type": "execute_result"
    }
   ],
   "source": [
    "columns(df,:Flag)"
   ]
  },
  {
   "cell_type": "code",
   "execution_count": 45,
   "metadata": {},
   "outputs": [
    {
     "data": {
      "text/plain": [
       "Table with 1219867 rows, 11 columns:\n",
       "Columns:\n",
       "\u001b[1m#   \u001b[22m\u001b[1mcolname       \u001b[22m\u001b[1mtype\u001b[22m\n",
       "─────────────────────────\n",
       "1   Area_Code     Int64\n",
       "2   Area          String\n",
       "3   Item_Code     Int64\n",
       "4   Item          String\n",
       "5   Element_Code  Int64\n",
       "6   Element       String\n",
       "7   Year_Code     Int64\n",
       "8   Year          Int64\n",
       "9   Unit          String\n",
       "10  Value         Float64\n",
       "11  Flag          String"
      ]
     },
     "metadata": {},
     "output_type": "display_data"
    }
   ],
   "source": [
    "display(df)"
   ]
  },
  {
   "cell_type": "code",
   "execution_count": null,
   "metadata": {},
   "outputs": [],
   "source": []
  }
 ],
 "metadata": {
  "kernelspec": {
   "display_name": "Julia 1.5.0",
   "language": "julia",
   "name": "julia-1.5"
  },
  "language_info": {
   "file_extension": ".jl",
   "mimetype": "application/julia",
   "name": "julia",
   "version": "1.5.0"
  }
 },
 "nbformat": 4,
 "nbformat_minor": 4
}
